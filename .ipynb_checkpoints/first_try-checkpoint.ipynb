{
 "cells": [
  {
   "cell_type": "markdown",
   "metadata": {},
   "source": [
    "# Projet R scoring"
   ]
  },
  {
   "cell_type": "code",
   "execution_count": 33,
   "metadata": {
    "ExecuteTime": {
     "end_time": "2020-03-21T12:31:34.856790Z",
     "start_time": "2020-03-21T12:31:34.810Z"
    }
   },
   "outputs": [],
   "source": [
    "# dl \n",
    "# list.of.packages= c(\"naniar\", \"ggplot\", \"gridExtra\", \"png\", \"imager\")\n",
    "# install.packages(list.of.packages)\n",
    "\n",
    "# import\n",
    "library(gridExtra)\n",
    "library(naniar)\n",
    "library(dplyr)\n",
    "library(png)\n",
    "library(imager)"
   ]
  },
  {
   "cell_type": "markdown",
   "metadata": {
    "ExecuteTime": {
     "end_time": "2020-03-21T12:13:08.410471Z",
     "start_time": "2020-03-21T12:13:08.367Z"
    }
   },
   "source": []
  },
  {
   "cell_type": "code",
   "execution_count": 34,
   "metadata": {
    "ExecuteTime": {
     "end_time": "2020-03-21T12:31:34.972481Z",
     "start_time": "2020-03-21T12:31:34.813Z"
    }
   },
   "outputs": [
    {
     "name": "stdout",
     "output_type": "stream",
     "text": [
      "[1] 5960   13\n"
     ]
    },
    {
     "data": {
      "text/html": [
       "<table>\n",
       "<thead><tr><th scope=col>BAD</th><th scope=col>LOAN</th><th scope=col>MORTDUE</th><th scope=col>VALUE</th><th scope=col>REASON</th><th scope=col>JOB</th><th scope=col>YOJ</th><th scope=col>DEROG</th><th scope=col>DELINQ</th><th scope=col>CLAGE</th><th scope=col>NINQ</th><th scope=col>CLNO</th><th scope=col>DEBTINC</th></tr></thead>\n",
       "<tbody>\n",
       "\t<tr><td>1        </td><td>1100     </td><td>25860    </td><td> 39025   </td><td>HomeImp  </td><td>Other    </td><td>10.5     </td><td> 0       </td><td> 0       </td><td> 94.36667</td><td> 1       </td><td> 9       </td><td>      NA </td></tr>\n",
       "\t<tr><td>1        </td><td>1300     </td><td>70053    </td><td> 68400   </td><td>HomeImp  </td><td>Other    </td><td> 7.0     </td><td> 0       </td><td> 2       </td><td>121.83333</td><td> 0       </td><td>14       </td><td>      NA </td></tr>\n",
       "\t<tr><td>1        </td><td>1500     </td><td>13500    </td><td> 16700   </td><td>HomeImp  </td><td>Other    </td><td> 4.0     </td><td> 0       </td><td> 0       </td><td>149.46667</td><td> 1       </td><td>10       </td><td>      NA </td></tr>\n",
       "\t<tr><td>1        </td><td>1500     </td><td>   NA    </td><td>    NA   </td><td>         </td><td>         </td><td>  NA     </td><td>NA       </td><td>NA       </td><td>       NA</td><td>NA       </td><td>NA       </td><td>      NA </td></tr>\n",
       "\t<tr><td>0        </td><td>1700     </td><td>97800    </td><td>112000   </td><td>HomeImp  </td><td>Office   </td><td> 3.0     </td><td> 0       </td><td> 0       </td><td> 93.33333</td><td> 0       </td><td>14       </td><td>      NA </td></tr>\n",
       "\t<tr><td>1        </td><td>1700     </td><td>30548    </td><td> 40320   </td><td>HomeImp  </td><td>Other    </td><td> 9.0     </td><td> 0       </td><td> 0       </td><td>101.46600</td><td> 1       </td><td> 8       </td><td>37.11361 </td></tr>\n",
       "</tbody>\n",
       "</table>\n"
      ],
      "text/latex": [
       "\\begin{tabular}{r|lllllllllllll}\n",
       " BAD & LOAN & MORTDUE & VALUE & REASON & JOB & YOJ & DEROG & DELINQ & CLAGE & NINQ & CLNO & DEBTINC\\\\\n",
       "\\hline\n",
       "\t 1         & 1100      & 25860     &  39025    & HomeImp   & Other     & 10.5      &  0        &  0        &  94.36667 &  1        &  9        &       NA \\\\\n",
       "\t 1         & 1300      & 70053     &  68400    & HomeImp   & Other     &  7.0      &  0        &  2        & 121.83333 &  0        & 14        &       NA \\\\\n",
       "\t 1         & 1500      & 13500     &  16700    & HomeImp   & Other     &  4.0      &  0        &  0        & 149.46667 &  1        & 10        &       NA \\\\\n",
       "\t 1         & 1500      &    NA     &     NA    &           &           &   NA      & NA        & NA        &        NA & NA        & NA        &       NA \\\\\n",
       "\t 0         & 1700      & 97800     & 112000    & HomeImp   & Office    &  3.0      &  0        &  0        &  93.33333 &  0        & 14        &       NA \\\\\n",
       "\t 1         & 1700      & 30548     &  40320    & HomeImp   & Other     &  9.0      &  0        &  0        & 101.46600 &  1        &  8        & 37.11361 \\\\\n",
       "\\end{tabular}\n"
      ],
      "text/markdown": [
       "\n",
       "| BAD | LOAN | MORTDUE | VALUE | REASON | JOB | YOJ | DEROG | DELINQ | CLAGE | NINQ | CLNO | DEBTINC |\n",
       "|---|---|---|---|---|---|---|---|---|---|---|---|---|\n",
       "| 1         | 1100      | 25860     |  39025    | HomeImp   | Other     | 10.5      |  0        |  0        |  94.36667 |  1        |  9        |       NA  |\n",
       "| 1         | 1300      | 70053     |  68400    | HomeImp   | Other     |  7.0      |  0        |  2        | 121.83333 |  0        | 14        |       NA  |\n",
       "| 1         | 1500      | 13500     |  16700    | HomeImp   | Other     |  4.0      |  0        |  0        | 149.46667 |  1        | 10        |       NA  |\n",
       "| 1         | 1500      |    NA     |     NA    |           |           |   NA      | NA        | NA        |        NA | NA        | NA        |       NA  |\n",
       "| 0         | 1700      | 97800     | 112000    | HomeImp   | Office    |  3.0      |  0        |  0        |  93.33333 |  0        | 14        |       NA  |\n",
       "| 1         | 1700      | 30548     |  40320    | HomeImp   | Other     |  9.0      |  0        |  0        | 101.46600 |  1        |  8        | 37.11361  |\n",
       "\n"
      ],
      "text/plain": [
       "  BAD LOAN MORTDUE VALUE  REASON  JOB    YOJ  DEROG DELINQ CLAGE     NINQ CLNO\n",
       "1 1   1100 25860    39025 HomeImp Other  10.5  0     0      94.36667  1    9  \n",
       "2 1   1300 70053    68400 HomeImp Other   7.0  0     2     121.83333  0   14  \n",
       "3 1   1500 13500    16700 HomeImp Other   4.0  0     0     149.46667  1   10  \n",
       "4 1   1500    NA       NA                  NA NA    NA            NA NA   NA  \n",
       "5 0   1700 97800   112000 HomeImp Office  3.0  0     0      93.33333  0   14  \n",
       "6 1   1700 30548    40320 HomeImp Other   9.0  0     0     101.46600  1    8  \n",
       "  DEBTINC \n",
       "1       NA\n",
       "2       NA\n",
       "3       NA\n",
       "4       NA\n",
       "5       NA\n",
       "6 37.11361"
      ]
     },
     "metadata": {},
     "output_type": "display_data"
    }
   ],
   "source": [
    "# chemin pour le data\n",
    "data= read.csv('data/hmeq.csv')\n",
    "print(dim(data))\n",
    "head(data)"
   ]
  },
  {
   "cell_type": "code",
   "execution_count": 35,
   "metadata": {
    "ExecuteTime": {
     "end_time": "2020-03-21T12:31:35.021355Z",
     "start_time": "2020-03-21T12:31:34.816Z"
    }
   },
   "outputs": [
    {
     "name": "stdout",
     "output_type": "stream",
     "text": [
      "'data.frame':\t5960 obs. of  13 variables:\n",
      " $ BAD    : int  1 1 1 1 0 1 1 1 1 1 ...\n",
      " $ LOAN   : int  1100 1300 1500 1500 1700 1700 1800 1800 2000 2000 ...\n",
      " $ MORTDUE: num  25860 70053 13500 NA 97800 ...\n",
      " $ VALUE  : num  39025 68400 16700 NA 112000 ...\n",
      " $ REASON : Factor w/ 3 levels \"\",\"DebtCon\",\"HomeImp\": 3 3 3 1 3 3 3 3 3 3 ...\n",
      " $ JOB    : Factor w/ 7 levels \"\",\"Mgr\",\"Office\",..: 4 4 4 1 3 4 4 4 4 6 ...\n",
      " $ YOJ    : num  10.5 7 4 NA 3 9 5 11 3 16 ...\n",
      " $ DEROG  : int  0 0 0 NA 0 0 3 0 0 0 ...\n",
      " $ DELINQ : int  0 2 0 NA 0 0 2 0 2 0 ...\n",
      " $ CLAGE  : num  94.4 121.8 149.5 NA 93.3 ...\n",
      " $ NINQ   : int  1 0 1 NA 0 1 1 0 1 0 ...\n",
      " $ CLNO   : int  9 14 10 NA 14 8 17 8 12 13 ...\n",
      " $ DEBTINC: num  NA NA NA NA NA ...\n"
     ]
    }
   ],
   "source": [
    "str(data)"
   ]
  },
  {
   "cell_type": "code",
   "execution_count": 36,
   "metadata": {
    "ExecuteTime": {
     "end_time": "2020-03-21T12:31:47.044979Z",
     "start_time": "2020-03-21T12:31:34.821Z"
    }
   },
   "outputs": [
    {
     "data": {
      "text/html": [
       "<dl class=dl-horizontal>\n",
       "\t<dt>BAD</dt>\n",
       "\t\t<dd>0</dd>\n",
       "\t<dt>LOAN</dt>\n",
       "\t\t<dd>0</dd>\n",
       "\t<dt>MORTDUE</dt>\n",
       "\t\t<dd>0.0869127516778524</dd>\n",
       "\t<dt>VALUE</dt>\n",
       "\t\t<dd>0.0187919463087248</dd>\n",
       "\t<dt>REASON</dt>\n",
       "\t\t<dd>0</dd>\n",
       "\t<dt>JOB</dt>\n",
       "\t\t<dd>0</dd>\n",
       "\t<dt>YOJ</dt>\n",
       "\t\t<dd>0.0864093959731544</dd>\n",
       "\t<dt>DEROG</dt>\n",
       "\t\t<dd>0.118791946308725</dd>\n",
       "\t<dt>DELINQ</dt>\n",
       "\t\t<dd>0.0973154362416107</dd>\n",
       "\t<dt>CLAGE</dt>\n",
       "\t\t<dd>0.0516778523489933</dd>\n",
       "\t<dt>NINQ</dt>\n",
       "\t\t<dd>0.0855704697986577</dd>\n",
       "\t<dt>CLNO</dt>\n",
       "\t\t<dd>0.037248322147651</dd>\n",
       "\t<dt>DEBTINC</dt>\n",
       "\t\t<dd>0.21258389261745</dd>\n",
       "</dl>\n"
      ],
      "text/latex": [
       "\\begin{description*}\n",
       "\\item[BAD] 0\n",
       "\\item[LOAN] 0\n",
       "\\item[MORTDUE] 0.0869127516778524\n",
       "\\item[VALUE] 0.0187919463087248\n",
       "\\item[REASON] 0\n",
       "\\item[JOB] 0\n",
       "\\item[YOJ] 0.0864093959731544\n",
       "\\item[DEROG] 0.118791946308725\n",
       "\\item[DELINQ] 0.0973154362416107\n",
       "\\item[CLAGE] 0.0516778523489933\n",
       "\\item[NINQ] 0.0855704697986577\n",
       "\\item[CLNO] 0.037248322147651\n",
       "\\item[DEBTINC] 0.21258389261745\n",
       "\\end{description*}\n"
      ],
      "text/markdown": [
       "BAD\n",
       ":   0LOAN\n",
       ":   0MORTDUE\n",
       ":   0.0869127516778524VALUE\n",
       ":   0.0187919463087248REASON\n",
       ":   0JOB\n",
       ":   0YOJ\n",
       ":   0.0864093959731544DEROG\n",
       ":   0.118791946308725DELINQ\n",
       ":   0.0973154362416107CLAGE\n",
       ":   0.0516778523489933NINQ\n",
       ":   0.0855704697986577CLNO\n",
       ":   0.037248322147651DEBTINC\n",
       ":   0.21258389261745\n",
       "\n"
      ],
      "text/plain": [
       "       BAD       LOAN    MORTDUE      VALUE     REASON        JOB        YOJ \n",
       "0.00000000 0.00000000 0.08691275 0.01879195 0.00000000 0.00000000 0.08640940 \n",
       "     DEROG     DELINQ      CLAGE       NINQ       CLNO    DEBTINC \n",
       "0.11879195 0.09731544 0.05167785 0.08557047 0.03724832 0.21258389 "
      ]
     },
     "metadata": {},
     "output_type": "display_data"
    },
    {
     "data": {
      "image/png": "[encoded data removed]",
      "text/plain": [
       "plot without title"
      ]
     },
     "metadata": {},
     "output_type": "display_data"
    }
   ],
   "source": [
    "fig <- function(width, heigth){\n",
    "     options(repr.plot.width= width, repr.plot.height= heigth)\n",
    "}\n",
    "\n",
    "# valeurs manquantes\n",
    "fig(8, 4)\n",
    "t= vis_miss(data, warn_large_data=F)\n",
    "vis_miss(data, warn_large_data=F)\n",
    "ggplot2::ggsave(\"images/miss.png\", t, width= 8, height= 4)\n",
    "navar= colSums(is.na(data))/nrow(data) # taux de na dans les colonnes (variable)\n",
    "navar"
   ]
  },
  {
   "cell_type": "code",
   "execution_count": 37,
   "metadata": {
    "ExecuteTime": {
     "end_time": "2020-03-21T12:31:47.183124Z",
     "start_time": "2020-03-21T12:31:34.824Z"
    }
   },
   "outputs": [
    {
     "name": "stdout",
     "output_type": "stream",
     "text": [
      "'data.frame':\t5960 obs. of  6 variables:\n",
      " $ BAD   : int  1 1 1 1 0 1 1 1 1 1 ...\n",
      " $ REASON: Factor w/ 3 levels \"\",\"DebtCon\",\"HomeImp\": 3 3 3 1 3 3 3 3 3 3 ...\n",
      " $ JOB   : Factor w/ 7 levels \"\",\"Mgr\",\"Office\",..: 4 4 4 1 3 4 4 4 4 6 ...\n",
      " $ DEROG : int  0 0 0 NA 0 0 3 0 0 0 ...\n",
      " $ DELINQ: int  0 2 0 NA 0 0 2 0 2 0 ...\n",
      " $ NINQ  : int  1 0 1 NA 0 1 1 0 1 0 ...\n",
      "'data.frame':\t5960 obs. of  7 variables:\n",
      " $ LOAN   : int  1100 1300 1500 1500 1700 1700 1800 1800 2000 2000 ...\n",
      " $ MORTDUE: num  25860 70053 13500 NA 97800 ...\n",
      " $ VALUE  : num  39025 68400 16700 NA 112000 ...\n",
      " $ YOJ    : num  10.5 7 4 NA 3 9 5 11 3 16 ...\n",
      " $ CLAGE  : num  94.4 121.8 149.5 NA 93.3 ...\n",
      " $ CLNO   : int  9 14 10 NA 14 8 17 8 12 13 ...\n",
      " $ DEBTINC: num  NA NA NA NA NA ...\n"
     ]
    }
   ],
   "source": [
    "num= c(\"LOAN\", \"MORTDUE\", \"VALUE\", \"YOJ\", \"CLAGE\", \"CLNO\", \"DEBTINC\")\n",
    "quat= c(\"BAD\", \"REASON\", \"JOB\", \"DEROG\", \"DELINQ\", \"NINQ\")\n",
    "\n",
    "data_q= data[quat]\n",
    "data_n= data[num]\n",
    "str(data_q)\n",
    "str(data_n)"
   ]
  },
  {
   "cell_type": "code",
   "execution_count": 43,
   "metadata": {
    "ExecuteTime": {
     "end_time": "2020-03-21T13:27:55.229223Z",
     "start_time": "2020-03-21T13:27:54.978Z"
    }
   },
   "outputs": [],
   "source": [
    "bar_freq= function(data, variable_name, color= \"orange\"){\n",
    "    ploted= ggplot2::ggplot(as.data.frame(data)\n",
    "                            , ggplot2::aes(data[, c(variable_name)])\n",
    "                            , na.rm= T\n",
    "                           ) +\n",
    "    ggplot2::geom_bar(color= \"black\", fill= color) +\n",
    "#     ggplot2::ggtitle(variable_name) +\n",
    "    ggplot2::xlab(variable_name)\n",
    "#   print(ploted)\n",
    "}\n",
    "\n",
    "# par(mfrow=c(3, 2))\n",
    "fig(8, 10)\n",
    "# for (x in seq(1, length(quat)))\n",
    "#     bar_freq(data_q, quat[x], x)\n",
    "plot1= bar_freq(data_q, quat[1])\n",
    "plot2= bar_freq(data_q, quat[2])\n",
    "plot3= bar_freq(data_q, quat[3])\n",
    "plot4= bar_freq(data_q, quat[4])\n",
    "plot5= bar_freq(data_q, quat[5])\n",
    "plot6= bar_freq(data_q, quat[6])\n",
    "\n",
    "# grid.arrange(plot1, plot2, plot3, plot4, plot5, plot6, ncol=2, nrow= 3)\n",
    "fig(3, 3)\n",
    "g= bar_freq(data_q, quat[1])\n",
    "ggplot2::ggsave(\"images/dist_cible.png\", g, width= 1.5, height= 2)"
   ]
  },
  {
   "cell_type": "code",
   "execution_count": 251,
   "metadata": {
    "ExecuteTime": {
     "end_time": "2020-03-21T10:14:55.490721Z",
     "start_time": "2020-03-21T10:14:51.319Z"
    }
   },
   "outputs": [
    {
     "name": "stderr",
     "output_type": "stream",
     "text": [
      "`stat_bin()` using `bins = 30`. Pick better value with `binwidth`.\n",
      "`stat_bin()` using `bins = 30`. Pick better value with `binwidth`.\n",
      "Warning message:\n",
      "\"Removed 518 rows containing non-finite values (stat_bin).\"`stat_bin()` using `bins = 30`. Pick better value with `binwidth`.\n",
      "Warning message:\n",
      "\"Removed 112 rows containing non-finite values (stat_bin).\"`stat_bin()` using `bins = 30`. Pick better value with `binwidth`.\n",
      "Warning message:\n",
      "\"Removed 515 rows containing non-finite values (stat_bin).\"`stat_bin()` using `bins = 30`. Pick better value with `binwidth`.\n",
      "Warning message:\n",
      "\"Removed 308 rows containing non-finite values (stat_bin).\"`stat_bin()` using `bins = 30`. Pick better value with `binwidth`.\n",
      "Warning message:\n",
      "\"Removed 222 rows containing non-finite values (stat_bin).\"`stat_bin()` using `bins = 30`. Pick better value with `binwidth`.\n",
      "Warning message:\n",
      "\"Removed 1267 rows containing non-finite values (stat_bin).\""
     ]
    },
    {
     "data": {
      "image/png": "[encoded data removed]",
      "text/plain": [
       "plot without title"
      ]
     },
     "metadata": {},
     "output_type": "display_data"
    }
   ],
   "source": [
    "box_plot= function(data, variable_name, color= \"orange\"){\n",
    "    ploted= ggplot2::ggplot(as.data.frame(data)\n",
    "                            , ggplot2::aes(x= data[, c(variable_name)])\n",
    "                            , na.rm= T\n",
    "                           ) +\n",
    "    ggplot2::geom_histogram(col= \"black\", fill= color) +\n",
    "#     ggplot2::ggtitle(variable_name) +\n",
    "    ggplot2::xlab(variable_name)\n",
    "#   print(ploted)\n",
    "}\n",
    "\n",
    "fig(8, 12)\n",
    "\n",
    "plot1= box_plot(data_n, num[1])\n",
    "plot2= box_plot(data_n, num[2])\n",
    "plot3= box_plot(data_n, num[3])\n",
    "plot4= box_plot(data_n, num[4])\n",
    "plot5= box_plot(data_n, num[5])\n",
    "plot6= box_plot(data_n, num[6])\n",
    "plot7= box_plot(data_n, num[7])\n",
    "\n",
    "\n",
    "grid.arrange(plot1, plot2, plot3, plot4, plot5, plot6, plot7, ncol=2, nrow= 4)"
   ]
  },
  {
   "cell_type": "code",
   "execution_count": 202,
   "metadata": {
    "ExecuteTime": {
     "end_time": "2020-03-21T09:33:53.855948Z",
     "start_time": "2020-03-21T09:33:32.166Z"
    }
   },
   "outputs": [],
   "source": [
    "data_2= data\n",
    "data_2$BAD= factor(data$BAD)\n",
    "\n",
    "data_job= data_2 %>% group_by(JOB, BAD) %>% summarize(n=n()) %>% mutate(freq=n/sum(n))\n",
    "\n",
    "# avec n\n",
    "ploted_job= ggplot2::ggplot(data_job, ggplot2::aes(x=JOB, fill = BAD, group = BAD)) +\n",
    "    ggplot2::geom_bar(ggplot2::aes(y=n), stat=\"identity\", position = \"dodge\") +\n",
    "    ggplot2::scale_fill_manual(values=c(\"darkgreen\",\"darkred\"))\n",
    "\n",
    "data_reason= data_2 %>% group_by(REASON, BAD) %>% summarize(n=n()) %>% mutate(freq=n/sum(n))\n",
    "\n",
    "ploted_reason= ggplot2::ggplot(data_reason, ggplot2::aes(x=REASON, fill = BAD, group = BAD)) +\n",
    "    ggplot2::geom_bar(ggplot2::aes(y=n), stat=\"identity\", position = \"dodge\") +\n",
    "    ggplot2::scale_fill_manual(values=c(\"darkgreen\",\"darkred\"))\n",
    "\n",
    "data_derog= data_2 %>% group_by(DEROG, BAD) %>% summarize(n=n()) %>% mutate(freq=n/sum(n))\n",
    "\n",
    "ploted_derog= ggplot2::ggplot(data_derog, ggplot2::aes(x=DEROG, fill = BAD, group = BAD)) +\n",
    "    ggplot2::geom_bar(ggplot2::aes(y=n), stat=\"identity\", position = \"dodge\") +\n",
    "    ggplot2::scale_fill_manual(values=c(\"darkgreen\",\"darkred\"))\n",
    "\n",
    "data_delinq= data_2 %>% group_by(DELINQ, BAD) %>% summarize(n=n()) %>% mutate(freq=n/sum(n))\n",
    "\n",
    "ploted_delinq= ggplot2::ggplot(data_delinq, ggplot2::aes(x=DELINQ, fill = BAD, group = BAD)) +\n",
    "    ggplot2::geom_bar(ggplot2::aes(y=n), stat=\"identity\", position = \"dodge\") +\n",
    "    ggplot2::scale_fill_manual(values=c(\"darkgreen\",\"darkred\"))\n",
    "\n",
    "data_ninq= data_2 %>% group_by(NINQ, BAD) %>% summarize(n=n()) %>% mutate(freq=n/sum(n))\n",
    "\n",
    "ploted_ninq= ggplot2::ggplot(data_ninq, ggplot2::aes(x=NINQ, fill = BAD, group = BAD)) +\n",
    "    ggplot2::geom_bar(ggplot2::aes(y=n), stat=\"identity\", position = \"dodge\") +\n",
    "    ggplot2::scale_fill_manual(values=c(\"darkgreen\",\"darkred\"))\n",
    "\n",
    "\n",
    "# avec n\n",
    "\n",
    "ploted_job_f= ggplot2::ggplot(data_job, ggplot2::aes(x=JOB, fill = BAD, group = BAD)) +\n",
    "    ggplot2::geom_bar(ggplot2::aes(y=freq), stat=\"identity\", position = \"dodge\") +\n",
    "    ggplot2::scale_fill_manual(values=c(\"darkgreen\",\"darkred\"))\n",
    "\n",
    "ploted_reason_f= ggplot2::ggplot(data_reason, ggplot2::aes(x=REASON, fill = BAD, group = BAD)) +\n",
    "    ggplot2::geom_bar(ggplot2::aes(y=freq), stat=\"identity\", position = \"dodge\") +\n",
    "    ggplot2::scale_fill_manual(values=c(\"darkgreen\",\"darkred\"))\n",
    "\n",
    "ploted_derog_f= ggplot2::ggplot(data_derog, ggplot2::aes(x=DEROG, fill = BAD, group = BAD)) +\n",
    "    ggplot2::geom_bar(ggplot2::aes(y=freq), stat=\"identity\", position = \"dodge\") +\n",
    "    ggplot2::scale_fill_manual(values=c(\"darkgreen\",\"darkred\"))\n",
    "\n",
    "ploted_delinq_f= ggplot2::ggplot(data_delinq, ggplot2::aes(x=DELINQ, fill = BAD, group = BAD)) +\n",
    "    ggplot2::geom_bar(ggplot2::aes(y=freq), stat=\"identity\", position = \"dodge\") +\n",
    "    ggplot2::scale_fill_manual(values=c(\"darkgreen\",\"darkred\"))\n",
    "\n",
    "ploted_ninq_f= ggplot2::ggplot(data_ninq, ggplot2::aes(x=NINQ, fill = BAD, group = BAD)) +\n",
    "    ggplot2::geom_bar(ggplot2::aes(y=freq), stat=\"identity\", position = \"dodge\") +\n",
    "    ggplot2::scale_fill_manual(values=c(\"darkgreen\",\"darkred\"))"
   ]
  },
  {
   "cell_type": "code",
   "execution_count": 236,
   "metadata": {
    "ExecuteTime": {
     "end_time": "2020-03-21T09:57:15.272470Z",
     "start_time": "2020-03-21T09:56:55.866Z"
    }
   },
   "outputs": [
    {
     "name": "stderr",
     "output_type": "stream",
     "text": [
      "Warning message:\n",
      "\"Removed 708 rows containing non-finite values (stat_count).\"Warning message:\n",
      "\"Removed 2 rows containing missing values (geom_bar).\"Warning message:\n",
      "\"Removed 2 rows containing missing values (geom_bar).\"Warning message:\n",
      "\"Removed 580 rows containing non-finite values (stat_count).\"Warning message:\n",
      "\"Removed 2 rows containing missing values (geom_bar).\"Warning message:\n",
      "\"Removed 2 rows containing missing values (geom_bar).\"Warning message:\n",
      "\"Removed 510 rows containing non-finite values (stat_count).\"Warning message:\n",
      "\"Removed 2 rows containing missing values (geom_bar).\"Warning message:\n",
      "\"Removed 2 rows containing missing values (geom_bar).\"Warning message:\n",
      "\"Removed 708 rows containing non-finite values (stat_count).\"Warning message:\n",
      "\"Removed 2 rows containing missing values (geom_bar).\"Warning message:\n",
      "\"Removed 2 rows containing missing values (geom_bar).\"Warning message:\n",
      "\"Removed 580 rows containing non-finite values (stat_count).\"Warning message:\n",
      "\"Removed 2 rows containing missing values (geom_bar).\"Warning message:\n",
      "\"Removed 2 rows containing missing values (geom_bar).\"Warning message:\n",
      "\"Removed 510 rows containing non-finite values (stat_count).\"Warning message:\n",
      "\"Removed 2 rows containing missing values (geom_bar).\"Warning message:\n",
      "\"Removed 2 rows containing missing values (geom_bar).\""
     ]
    },
    {
     "data": {
      "image/png": "[encoded data removed]",
      "text/plain": [
       "plot without title"
      ]
     },
     "metadata": {},
     "output_type": "display_data"
    }
   ],
   "source": [
    "fig(11, 12)\n",
    "\n",
    "plot1= bar_freq(data_q, quat[1])\n",
    "plot2= bar_freq(data_q, quat[2])\n",
    "plot3= bar_freq(data_q, quat[3])\n",
    "plot4= bar_freq(data_q, quat[4])\n",
    "plot5= bar_freq(data_q, quat[5])\n",
    "plot6= bar_freq(data_q, quat[6])\n",
    "\n",
    "grid.arrange(plot2, ploted_reason, ploted_reason_f\n",
    "             , plot3, ploted_job, ploted_job_f\n",
    "             , plot4, ploted_derog, ploted_derog_f\n",
    "             , plot5, ploted_delinq, ploted_delinq_f\n",
    "             , plot6, ploted_ninq, ploted_ninq_f\n",
    "             , ncol= 3, nrow= 5, top= \" (A gauche) Distribution des modalités par variable\n",
    "                                    (Au centre) Distribution des modalités par variable selon la valeur de BAD\n",
    "                (A gauche) Fréquence des modalités selon la valeur de BAD\"\n",
    "#              , arrangeGrob(plot2, plot3, plot4, plot5, plot6, top=\"A\")\n",
    "#              , arrangeGrob(ploted_reason, ploted_job, ploted_derog, ploted_delinq, ploted_ninq, top=\"A\")\n",
    "#              , arrangeGrob(ploted_reason, ploted_job, ploted_derog, ploted_delinq, ploted_ninq, top=\"A\")\n",
    "            )\n",
    "\n",
    "g= arrangeGrob(plot2, ploted_reason, ploted_reason_f\n",
    "             , plot3, ploted_job, ploted_job_f\n",
    "             , plot4, ploted_derog, ploted_derog_f\n",
    "             , plot5, ploted_delinq, ploted_delinq_f\n",
    "             , plot6, ploted_ninq, ploted_ninq_f\n",
    "             , ncol= 3, nrow= 5, top= \" (A gauche) Distribution des modalités par variable\n",
    "                                    (Au centre) Distribution des modalités par variable selon la valeur de BAD\n",
    "                (A gauche) Fréquence des modalités selon la valeur de BAD\"\n",
    "            )\n",
    "ggplot2::ggsave(\"images/eda_cat.png\", g, width= 11, height= 12)"
   ]
  },
  {
   "cell_type": "code",
   "execution_count": 250,
   "metadata": {
    "ExecuteTime": {
     "end_time": "2020-03-21T10:11:42.436783Z",
     "start_time": "2020-03-21T10:11:42.330Z"
    }
   },
   "outputs": [],
   "source": [
    "# data_job= data_2 %>% group_by(JOB, BAD) %>% summarize(n=n()) %>% mutate(freq=n/sum(n))\n",
    "\n",
    "# avec n\n",
    "# fig(4, 4)\n",
    "# ploted_test= ggplot2::ggplot(data_2, ggplot2::aes(x=LOAN, fill = BAD)) +\n",
    "#     ggplot2::geom_histogram(stat=\"identity\", alpha= 0.6) +\n",
    "# #     ggplot2::scale_fill_manual(values=c(\"darkgreen\",\"darkred\"))\n",
    "# print(ploted_test)\n",
    "# num= c(\"LOAN\", \"MORTDUE\", \"VALUE\", \"YOJ\", \"CLAGE\", \"CLNO\", \"DEBTINC\")\n",
    "\n",
    "ploted_loan_gr= ggplot2::ggplot(as.data.frame(data_2)\n",
    "                            , ggplot2::aes(x=LOAN, fill= BAD)\n",
    "                            , na.rm= T\n",
    "                           ) +\n",
    "            ggplot2::geom_histogram(alpha= 0.6) +\n",
    "            ggplot2::scale_fill_manual(values=c(\"darkgreen\",\"darkred\"))\n",
    "\n",
    "ploted_mortdue_gr= ggplot2::ggplot(as.data.frame(data_2)\n",
    "                            , ggplot2::aes(x=MORTDUE, fill= BAD)\n",
    "                            , na.rm= T\n",
    "                           ) +\n",
    "            ggplot2::geom_histogram(alpha= 0.6) +\n",
    "            ggplot2::scale_fill_manual(values=c(\"darkgreen\",\"darkred\"))\n",
    "\n",
    "ploted_value_gr= ggplot2::ggplot(as.data.frame(data_2)\n",
    "                            , ggplot2::aes(x=VALUE, fill= BAD)\n",
    "                            , na.rm= T\n",
    "                           ) +\n",
    "            ggplot2::geom_histogram(alpha= 0.6) +\n",
    "            ggplot2::scale_fill_manual(values=c(\"darkgreen\",\"darkred\"))\n",
    "\n",
    "ploted_yoj_gr= ggplot2::ggplot(as.data.frame(data_2)\n",
    "                            , ggplot2::aes(x=YOJ, fill= BAD)\n",
    "                            , na.rm= T\n",
    "                           ) +\n",
    "            ggplot2::geom_histogram(alpha= 0.6) +\n",
    "            ggplot2::scale_fill_manual(values=c(\"darkgreen\",\"darkred\"))\n",
    "\n",
    "ploted_clage_gr= ggplot2::ggplot(as.data.frame(data_2)\n",
    "                            , ggplot2::aes(x=CLAGE, fill= BAD)\n",
    "                            , na.rm= T\n",
    "                           ) +\n",
    "            ggplot2::geom_histogram(alpha= 0.6) +\n",
    "            ggplot2::scale_fill_manual(values=c(\"darkgreen\",\"darkred\"))\n",
    "\n",
    "ploted_clno_gr= ggplot2::ggplot(as.data.frame(data_2)\n",
    "                            , ggplot2::aes(x=CLNO, fill= BAD)\n",
    "                            , na.rm= T\n",
    "                           ) +\n",
    "            ggplot2::geom_histogram(alpha= 0.6) +\n",
    "            ggplot2::scale_fill_manual(values=c(\"darkgreen\",\"darkred\"))\n",
    "\n",
    "ploted_debtinc_gr= ggplot2::ggplot(as.data.frame(data_2)\n",
    "                            , ggplot2::aes(x=DEBTINC, fill= BAD)\n",
    "                            , na.rm= T\n",
    "                           ) +\n",
    "            ggplot2::geom_histogram(alpha= 0.6) +\n",
    "            ggplot2::scale_fill_manual(values=c(\"darkgreen\",\"darkred\"))"
   ]
  },
  {
   "cell_type": "code",
   "execution_count": 259,
   "metadata": {
    "ExecuteTime": {
     "end_time": "2020-03-21T10:26:23.573304Z",
     "start_time": "2020-03-21T10:26:04.616Z"
    },
    "scrolled": false
   },
   "outputs": [
    {
     "name": "stderr",
     "output_type": "stream",
     "text": [
      "`stat_bin()` using `bins = 30`. Pick better value with `binwidth`.\n",
      "`stat_bin()` using `bins = 30`. Pick better value with `binwidth`.\n",
      "`stat_bin()` using `bins = 30`. Pick better value with `binwidth`.\n",
      "Warning message:\n",
      "\"Removed 518 rows containing non-finite values (stat_bin).\"`stat_bin()` using `bins = 30`. Pick better value with `binwidth`.\n",
      "Warning message:\n",
      "\"Removed 518 rows containing non-finite values (stat_bin).\"`stat_bin()` using `bins = 30`. Pick better value with `binwidth`.\n",
      "Warning message:\n",
      "\"Removed 112 rows containing non-finite values (stat_bin).\"`stat_bin()` using `bins = 30`. Pick better value with `binwidth`.\n",
      "Warning message:\n",
      "\"Removed 112 rows containing non-finite values (stat_bin).\"`stat_bin()` using `bins = 30`. Pick better value with `binwidth`.\n",
      "Warning message:\n",
      "\"Removed 515 rows containing non-finite values (stat_bin).\"`stat_bin()` using `bins = 30`. Pick better value with `binwidth`.\n",
      "Warning message:\n",
      "\"Removed 515 rows containing non-finite values (stat_bin).\"`stat_bin()` using `bins = 30`. Pick better value with `binwidth`.\n",
      "Warning message:\n",
      "\"Removed 308 rows containing non-finite values (stat_bin).\"`stat_bin()` using `bins = 30`. Pick better value with `binwidth`.\n",
      "Warning message:\n",
      "\"Removed 308 rows containing non-finite values (stat_bin).\"`stat_bin()` using `bins = 30`. Pick better value with `binwidth`.\n",
      "Warning message:\n",
      "\"Removed 222 rows containing non-finite values (stat_bin).\"`stat_bin()` using `bins = 30`. Pick better value with `binwidth`.\n",
      "Warning message:\n",
      "\"Removed 222 rows containing non-finite values (stat_bin).\"`stat_bin()` using `bins = 30`. Pick better value with `binwidth`.\n",
      "Warning message:\n",
      "\"Removed 1267 rows containing non-finite values (stat_bin).\"`stat_bin()` using `bins = 30`. Pick better value with `binwidth`.\n",
      "Warning message:\n",
      "\"Removed 1267 rows containing non-finite values (stat_bin).\"`stat_bin()` using `bins = 30`. Pick better value with `binwidth`.\n",
      "`stat_bin()` using `bins = 30`. Pick better value with `binwidth`.\n",
      "`stat_bin()` using `bins = 30`. Pick better value with `binwidth`.\n",
      "Warning message:\n",
      "\"Removed 518 rows containing non-finite values (stat_bin).\"`stat_bin()` using `bins = 30`. Pick better value with `binwidth`.\n",
      "Warning message:\n",
      "\"Removed 518 rows containing non-finite values (stat_bin).\"`stat_bin()` using `bins = 30`. Pick better value with `binwidth`.\n",
      "Warning message:\n",
      "\"Removed 112 rows containing non-finite values (stat_bin).\"`stat_bin()` using `bins = 30`. Pick better value with `binwidth`.\n",
      "Warning message:\n",
      "\"Removed 112 rows containing non-finite values (stat_bin).\"`stat_bin()` using `bins = 30`. Pick better value with `binwidth`.\n",
      "Warning message:\n",
      "\"Removed 515 rows containing non-finite values (stat_bin).\"`stat_bin()` using `bins = 30`. Pick better value with `binwidth`.\n",
      "Warning message:\n",
      "\"Removed 515 rows containing non-finite values (stat_bin).\"`stat_bin()` using `bins = 30`. Pick better value with `binwidth`.\n",
      "Warning message:\n",
      "\"Removed 308 rows containing non-finite values (stat_bin).\"`stat_bin()` using `bins = 30`. Pick better value with `binwidth`.\n",
      "Warning message:\n",
      "\"Removed 308 rows containing non-finite values (stat_bin).\"`stat_bin()` using `bins = 30`. Pick better value with `binwidth`.\n",
      "Warning message:\n",
      "\"Removed 222 rows containing non-finite values (stat_bin).\"`stat_bin()` using `bins = 30`. Pick better value with `binwidth`.\n",
      "Warning message:\n",
      "\"Removed 222 rows containing non-finite values (stat_bin).\"`stat_bin()` using `bins = 30`. Pick better value with `binwidth`.\n",
      "Warning message:\n",
      "\"Removed 1267 rows containing non-finite values (stat_bin).\"`stat_bin()` using `bins = 30`. Pick better value with `binwidth`.\n",
      "Warning message:\n",
      "\"Removed 1267 rows containing non-finite values (stat_bin).\""
     ]
    },
    {
     "data": {
      "image/png": "[encoded data removed]",
      "text/plain": [
       "plot without title"
      ]
     },
     "metadata": {},
     "output_type": "display_data"
    }
   ],
   "source": [
    "plot1= box_plot(data_n, num[1])\n",
    "plot2= box_plot(data_n, num[2])\n",
    "plot3= box_plot(data_n, num[3])\n",
    "plot4= box_plot(data_n, num[4])\n",
    "plot5= box_plot(data_n, num[5])\n",
    "plot6= box_plot(data_n, num[6])\n",
    "plot7= box_plot(data_n, num[7])\n",
    "\n",
    "fig(6, 14)\n",
    "grid.arrange(plot1, ploted_loan_gr\n",
    "             , plot2, ploted_mortdue_gr\n",
    "             , plot3, ploted_value_gr\n",
    "             , plot4, ploted_yoj_gr\n",
    "             , plot5, ploted_clage_gr\n",
    "             , plot6, ploted_clno_gr\n",
    "             , plot7, ploted_debtinc_gr\n",
    "             , ncol= 2, nrow= 7\n",
    "#              , arrangeGrob(plot2, plot3, plot4, plot5, plot6, top=\"A\")\n",
    "#              , arrangeGrob(ploted_reason, ploted_job, ploted_derog, ploted_delinq, ploted_ninq, top=\"A\")\n",
    "#              , arrangeGrob(ploted_reason, ploted_job, ploted_derog, ploted_delinq, ploted_ninq, top=\"A\")\n",
    "            )\n",
    "g= arrangeGrob(plot1, ploted_loan_gr\n",
    "             , plot2, ploted_mortdue_gr\n",
    "             , plot3, ploted_value_gr\n",
    "             , plot4, ploted_yoj_gr\n",
    "             , plot5, ploted_clage_gr\n",
    "             , plot6, ploted_clno_gr\n",
    "             , plot7, ploted_debtinc_gr\n",
    "             , ncol= 2, nrow= 7, top= \"Distribution de nos variables numériques\")\n",
    "\n",
    "ggplot2::ggsave(\"images/dist_cont.png\", g, width= 6, height= 14)"
   ]
  },
  {
   "cell_type": "code",
   "execution_count": 286,
   "metadata": {
    "ExecuteTime": {
     "end_time": "2020-03-21T10:42:19.102923Z",
     "start_time": "2020-03-21T10:42:18.169Z"
    }
   },
   "outputs": [
    {
     "data": {
      "image/png": "[encoded data removed]",
      "text/plain": [
       "plot without title"
      ]
     },
     "metadata": {},
     "output_type": "display_data"
    }
   ],
   "source": [
    "fig(3, 3)\n",
    "\n",
    "# ploted= ggplot2::ggplot(as.data.frame(data)\n",
    "#                             , ggplot2::aes(y= LOAN)\n",
    "#                             , na.rm= T\n",
    "#                            ) +\n",
    "#     ggplot2::geom_boxplot(col= \"black\", fill= \"orange\") +\n",
    "#     ggplot2::xlab(\"\")\n",
    "# print(ploted)\n",
    "\n",
    "# ploted_gr= ggplot2::ggplot(as.data.frame(data_2)\n",
    "#                             , ggplot2::aes(y= LOAN, group= BAD, fill= BAD)\n",
    "#                             , na.rm= T\n",
    "#                            ) +\n",
    "#     ggplot2::geom_boxplot() +\n",
    "#     ggplot2::xlab(\"\")\n",
    "# print(ploted_gr)"
   ]
  },
  {
   "cell_type": "code",
   "execution_count": 300,
   "metadata": {
    "ExecuteTime": {
     "end_time": "2020-03-21T10:59:18.686088Z",
     "start_time": "2020-03-21T10:59:18.577Z"
    }
   },
   "outputs": [],
   "source": [
    "ploted_loan= ggplot2::ggplot(as.data.frame(data)\n",
    "                            , ggplot2::aes(y= LOAN)\n",
    "                            , na.rm= T\n",
    "                           ) +\n",
    "    ggplot2::geom_boxplot(col= \"black\", fill= \"orange\") +\n",
    "    ggplot2::xlab(\"\") +\n",
    "    ggplot2::scale_fill_manual(values=c(\"darkgreen\",\"darkred\"))\n",
    "\n",
    "\n",
    "ploted_mortdue= ggplot2::ggplot(as.data.frame(data)\n",
    "                            , ggplot2::aes(y= MORTDUE)\n",
    "                            , na.rm= T\n",
    "                           ) +\n",
    "    ggplot2::geom_boxplot(col= \"black\", fill= \"orange\") +\n",
    "    ggplot2::xlab(\"\") +\n",
    "    ggplot2::scale_fill_manual(values=c(\"darkgreen\",\"darkred\"))\n",
    "\n",
    "ploted_value= ggplot2::ggplot(as.data.frame(data)\n",
    "                            , ggplot2::aes(y= VALUE)\n",
    "                            , na.rm= T\n",
    "                           ) +\n",
    "    ggplot2::geom_boxplot(col= \"black\", fill= \"orange\") +\n",
    "    ggplot2::xlab(\"\") + \n",
    "    ggplot2::scale_fill_manual(values=c(\"darkgreen\",\"darkred\"))\n",
    "\n",
    "ploted_yoj= ggplot2::ggplot(as.data.frame(data)\n",
    "                            , ggplot2::aes(y= YOJ)\n",
    "                            , na.rm= T\n",
    "                           ) +\n",
    "    ggplot2::geom_boxplot(col= \"black\", fill= \"orange\") +\n",
    "    ggplot2::xlab(\"\") + \n",
    "    ggplot2::scale_fill_manual(values=c(\"darkgreen\",\"darkred\"))\n",
    "\n",
    "ploted_clage= ggplot2::ggplot(as.data.frame(data)\n",
    "                            , ggplot2::aes(y= CLAGE)\n",
    "                            , na.rm= T\n",
    "                           ) +\n",
    "    ggplot2::geom_boxplot(col= \"black\", fill= \"orange\") +\n",
    "    ggplot2::xlab(\"\") +\n",
    "    ggplot2::scale_fill_manual(values=c(\"darkgreen\",\"darkred\"))\n",
    "\n",
    "ploted_clno= ggplot2::ggplot(as.data.frame(data)\n",
    "                            , ggplot2::aes(y= CLNO)\n",
    "                            , na.rm= T\n",
    "                           ) +\n",
    "    ggplot2::geom_boxplot(col= \"black\", fill= \"orange\") +\n",
    "    ggplot2::xlab(\"\") + \n",
    "    ggplot2::scale_fill_manual(values=c(\"darkgreen\",\"darkred\"))\n",
    "\n",
    "ploted_deptinc= ggplot2::ggplot(as.data.frame(data)\n",
    "                            , ggplot2::aes(y= DEBTINC)\n",
    "                            , na.rm= T\n",
    "                           ) +\n",
    "    ggplot2::geom_boxplot(col= \"black\", fill= \"orange\") +\n",
    "    ggplot2::xlab(\"\") +\n",
    "    ggplot2::scale_fill_manual(values=c(\"darkgreen\",\"darkred\"))"
   ]
  },
  {
   "cell_type": "code",
   "execution_count": 303,
   "metadata": {
    "ExecuteTime": {
     "end_time": "2020-03-21T11:00:31.698649Z",
     "start_time": "2020-03-21T11:00:31.605Z"
    }
   },
   "outputs": [],
   "source": [
    "num= c(\"LOAN\", \"MORTDUE\", \"VALUE\", \"YOJ\", \"CLAGE\", \"CLNO\", \"DEBTINC\")\n",
    "\n",
    "ploted_loan_gr= ggplot2::ggplot(as.data.frame(data_2)\n",
    "                            , ggplot2::aes(y= LOAN, group= BAD, fill= BAD)\n",
    "                            , na.rm= T\n",
    "                           ) +\n",
    "    ggplot2::geom_boxplot() +\n",
    "    ggplot2::xlab(\"\") +\n",
    "    ggplot2::scale_fill_manual(values=c(\"darkgreen\",\"darkred\"))\n",
    "\n",
    "ploted_mortdue_gr= ggplot2::ggplot(as.data.frame(data_2)\n",
    "                            , ggplot2::aes(y= MORTDUE, group= BAD, fill= BAD)\n",
    "                            , na.rm= T\n",
    "                           ) +\n",
    "    ggplot2::geom_boxplot() +\n",
    "    ggplot2::xlab(\"\") +\n",
    "    ggplot2::scale_fill_manual(values=c(\"darkgreen\",\"darkred\"))\n",
    "\n",
    "ploted_value_gr= ggplot2::ggplot(as.data.frame(data_2)\n",
    "                            , ggplot2::aes(y= VALUE, group= BAD, fill= BAD)\n",
    "                            , na.rm= T\n",
    "                           ) +\n",
    "    ggplot2::geom_boxplot() +\n",
    "    ggplot2::xlab(\"\") + \n",
    "    ggplot2::scale_fill_manual(values=c(\"darkgreen\",\"darkred\"))\n",
    "\n",
    "ploted_yoj_gr= ggplot2::ggplot(as.data.frame(data_2)\n",
    "                            , ggplot2::aes(y= YOJ, group= BAD, fill= BAD)\n",
    "                            , na.rm= T\n",
    "                           ) +\n",
    "    ggplot2::geom_boxplot() +\n",
    "    ggplot2::xlab(\"\") +\n",
    "    ggplot2::scale_fill_manual(values=c(\"darkgreen\",\"darkred\"))\n",
    "\n",
    "ploted_clage_gr= ggplot2::ggplot(as.data.frame(data_2)\n",
    "                            , ggplot2::aes(y= CLAGE, group= BAD, fill= BAD)\n",
    "                            , na.rm= T\n",
    "                           ) +\n",
    "    ggplot2::geom_boxplot() +\n",
    "    ggplot2::xlab(\"\") +\n",
    "    ggplot2::scale_fill_manual(values=c(\"darkgreen\",\"darkred\"))\n",
    "\n",
    "ploted_clno_gr= ggplot2::ggplot(as.data.frame(data_2)\n",
    "                            , ggplot2::aes(y= CLNO, group= BAD, fill= BAD)\n",
    "                            , na.rm= T\n",
    "                           ) +\n",
    "    ggplot2::geom_boxplot() +\n",
    "    ggplot2::xlab(\"\") +\n",
    "    ggplot2::scale_fill_manual(values=c(\"darkgreen\",\"darkred\"))\n",
    "\n",
    "ploted_deptinc_gr= ggplot2::ggplot(as.data.frame(data_2)\n",
    "                            , ggplot2::aes(y= DEBTINC, group= BAD, fill= BAD)\n",
    "                            , na.rm= T\n",
    "                           ) +\n",
    "    ggplot2::geom_boxplot() +\n",
    "    ggplot2::xlab(\"\") +\n",
    "    ggplot2::scale_fill_manual(values=c(\"darkgreen\",\"darkred\"))"
   ]
  },
  {
   "cell_type": "code",
   "execution_count": 304,
   "metadata": {
    "ExecuteTime": {
     "end_time": "2020-03-21T11:00:50.981492Z",
     "start_time": "2020-03-21T11:00:32.164Z"
    }
   },
   "outputs": [
    {
     "name": "stderr",
     "output_type": "stream",
     "text": [
      "Warning message:\n",
      "\"Removed 518 rows containing non-finite values (stat_boxplot).\"Warning message:\n",
      "\"Removed 518 rows containing non-finite values (stat_boxplot).\"Warning message:\n",
      "\"Removed 112 rows containing non-finite values (stat_boxplot).\"Warning message:\n",
      "\"Removed 112 rows containing non-finite values (stat_boxplot).\"Warning message:\n",
      "\"Removed 515 rows containing non-finite values (stat_boxplot).\"Warning message:\n",
      "\"Removed 515 rows containing non-finite values (stat_boxplot).\"Warning message:\n",
      "\"Removed 308 rows containing non-finite values (stat_boxplot).\"Warning message:\n",
      "\"Removed 308 rows containing non-finite values (stat_boxplot).\"Warning message:\n",
      "\"Removed 222 rows containing non-finite values (stat_boxplot).\"Warning message:\n",
      "\"Removed 222 rows containing non-finite values (stat_boxplot).\"Warning message:\n",
      "\"Removed 1267 rows containing non-finite values (stat_boxplot).\"Warning message:\n",
      "\"Removed 1267 rows containing non-finite values (stat_boxplot).\"Warning message:\n",
      "\"Removed 518 rows containing non-finite values (stat_boxplot).\"Warning message:\n",
      "\"Removed 518 rows containing non-finite values (stat_boxplot).\"Warning message:\n",
      "\"Removed 112 rows containing non-finite values (stat_boxplot).\"Warning message:\n",
      "\"Removed 112 rows containing non-finite values (stat_boxplot).\"Warning message:\n",
      "\"Removed 515 rows containing non-finite values (stat_boxplot).\"Warning message:\n",
      "\"Removed 515 rows containing non-finite values (stat_boxplot).\"Warning message:\n",
      "\"Removed 308 rows containing non-finite values (stat_boxplot).\"Warning message:\n",
      "\"Removed 308 rows containing non-finite values (stat_boxplot).\"Warning message:\n",
      "\"Removed 222 rows containing non-finite values (stat_boxplot).\"Warning message:\n",
      "\"Removed 222 rows containing non-finite values (stat_boxplot).\"Warning message:\n",
      "\"Removed 1267 rows containing non-finite values (stat_boxplot).\"Warning message:\n",
      "\"Removed 1267 rows containing non-finite values (stat_boxplot).\""
     ]
    },
    {
     "data": {
      "image/png": "[encoded data removed]",
      "text/plain": [
       "plot without title"
      ]
     },
     "metadata": {},
     "output_type": "display_data"
    }
   ],
   "source": [
    "fig(5, 11)\n",
    "grid.arrange(ploted_loan, ploted_loan_gr\n",
    "             , ploted_mortdue, ploted_mortdue_gr\n",
    "             , ploted_value, ploted_value_gr\n",
    "             , ploted_yoj, ploted_yoj_gr\n",
    "             , ploted_clage, ploted_clage_gr\n",
    "             , ploted_clno, ploted_clno_gr\n",
    "             , ploted_deptinc, ploted_deptinc_gr\n",
    "             , ncol= 2, nrow= 7\n",
    "            )\n",
    "\n",
    "g= arrangeGrob(ploted_loan, ploted_loan_gr\n",
    "             , ploted_mortdue, ploted_mortdue_gr\n",
    "             , ploted_value, ploted_value_gr\n",
    "             , ploted_yoj, ploted_yoj_gr\n",
    "             , ploted_clage, ploted_clage_gr\n",
    "             , ploted_clno, ploted_clno_gr\n",
    "             , ploted_deptinc, ploted_deptinc_gr\n",
    "             , ncol= 2, nrow= 7, top= \"Boxplot pour nos variables numériques\"\n",
    "            )\n",
    "\n",
    "ggplot2::ggsave(\"images/bosplot_cont.png\", g, width= 5, height= 11)"
   ]
  },
  {
   "cell_type": "code",
   "execution_count": null,
   "metadata": {},
   "outputs": [],
   "source": []
  }
 ],
 "metadata": {
  "kernelspec": {
   "display_name": "R",
   "language": "R",
   "name": "ir"
  },
  "language_info": {
   "codemirror_mode": "r",
   "file_extension": ".r",
   "mimetype": "text/x-r-source",
   "name": "R",
   "pygments_lexer": "r",
   "version": "3.6.1"
  }
 },
 "nbformat": 4,
 "nbformat_minor": 2
}
